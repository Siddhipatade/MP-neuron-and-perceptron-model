{
 "cells": [
  {
   "cell_type": "code",
   "execution_count": 1,
   "metadata": {},
   "outputs": [
    {
     "name": "stdout",
     "output_type": "stream",
     "text": [
      "Input vector:  [0 1 1]\n",
      "Input vector:  [-1  1  1]\n"
     ]
    }
   ],
   "source": [
    "#step1: genrate vectors for input and ouput\n",
    "\n",
    "import numpy as np\n",
    "np.random.seed(seed=0)\n",
    "I=np.random.choice([0,1],3)#generate random vector I, sampling form(0,1)\n",
    "W=np.random.choice([-1,1],3)#generate random vector w, sampling form(-1,1)\n",
    "print('Input vector: ',I)\n",
    "print('Input vector: ',W)"
   ]
  },
  {
   "cell_type": "code",
   "execution_count": 2,
   "metadata": {},
   "outputs": [
    {
     "name": "stdout",
     "output_type": "stream",
     "text": [
      "dot product:  2\n"
     ]
    }
   ],
   "source": [
    "#step2: calculatetion of activation function\n",
    "\n",
    "dot=I@W\n",
    "print('dot product: ',dot)"
   ]
  },
  {
   "cell_type": "code",
   "execution_count": 3,
   "metadata": {},
   "outputs": [],
   "source": [
    "#step3: set activation function\n",
    "\n",
    "def linear_threshold_gate(dot: int, T:float)->int:\n",
    "    '''Returns the binary threshold output'''\n",
    "    if dot>=T:\n",
    "        return 1\n",
    "    else:\n",
    "        return 0"
   ]
  },
  {
   "cell_type": "code",
   "execution_count": 4,
   "metadata": {},
   "outputs": [
    {
     "name": "stdout",
     "output_type": "stream",
     "text": [
      "activation:  1\n"
     ]
    }
   ],
   "source": [
    "T = 1\n",
    "activation=linear_threshold_gate(dot, T)\n",
    "print('activation: ',activation)"
   ]
  },
  {
   "cell_type": "code",
   "execution_count": 5,
   "metadata": {},
   "outputs": [
    {
     "name": "stdout",
     "output_type": "stream",
     "text": [
      "activation:  0\n"
     ]
    }
   ],
   "source": [
    "T = 3\n",
    "activation=linear_threshold_gate(dot, T)\n",
    "print('activation: ',activation)"
   ]
  },
  {
   "cell_type": "code",
   "execution_count": 6,
   "metadata": {},
   "outputs": [
    {
     "name": "stdout",
     "output_type": "stream",
     "text": [
      "input table for AND gate:\n",
      " [[0 0]\n",
      " [0 1]\n",
      " [1 0]\n",
      " [1 1]]\n"
     ]
    }
   ],
   "source": [
    "#np neuron for AND GATE\n",
    "input_table=np.array([[0,0],[0,1],[1,0],[1,1]])\n",
    "print('input table for AND gate:\\n', input_table)"
   ]
  },
  {
   "cell_type": "code",
   "execution_count": 7,
   "metadata": {},
   "outputs": [
    {
     "name": "stdout",
     "output_type": "stream",
     "text": [
      "weights:  [1 1]\n"
     ]
    }
   ],
   "source": [
    "weights=np.array([1,1])\n",
    "print('weights: ', weights)"
   ]
  },
  {
   "cell_type": "code",
   "execution_count": 8,
   "metadata": {},
   "outputs": [
    {
     "name": "stdout",
     "output_type": "stream",
     "text": [
      "dot product:  [0 1 1 2]\n"
     ]
    }
   ],
   "source": [
    "dot_products=input_table @weights\n",
    "print('dot product: ', dot_products)"
   ]
  },
  {
   "cell_type": "code",
   "execution_count": 9,
   "metadata": {},
   "outputs": [
    {
     "name": "stdout",
     "output_type": "stream",
     "text": [
      "Activation:  0\n",
      "Activation:  0\n",
      "Activation:  0\n",
      "Activation:  1\n"
     ]
    }
   ],
   "source": [
    "#AND logic\n",
    "\n",
    "T =2\n",
    "for i in range (0,4):\n",
    "    activation = linear_threshold_gate(dot_products[i],T)\n",
    "    print('Activation: ', activation)"
   ]
  },
  {
   "cell_type": "code",
   "execution_count": 10,
   "metadata": {},
   "outputs": [
    {
     "name": "stdout",
     "output_type": "stream",
     "text": [
      "Activation:  0\n",
      "Activation:  1\n",
      "Activation:  1\n",
      "Activation:  1\n"
     ]
    }
   ],
   "source": [
    "#since we want neuron to fire when at least one of the inputs is exactily the \n",
    "# threshold for activation function must be 0 for this\n",
    "#weights=all positive\n",
    "#threshlod =1\n",
    "#NOR GATE\n",
    "T =1\n",
    "for i in range (0,4):\n",
    "    activation = linear_threshold_gate(dot_products[i],T)\n",
    "    print('Activation: ', activation)"
   ]
  },
  {
   "cell_type": "code",
   "execution_count": 11,
   "metadata": {},
   "outputs": [
    {
     "name": "stdout",
     "output_type": "stream",
     "text": [
      "weights:  [-1 -1]\n"
     ]
    }
   ],
   "source": [
    "#since we want neuron to fire when at least one of the inputs is \n",
    "# exactily the threshold for activation function must be 0 for this\n",
    "#weights=all negative\n",
    "#threshlod\n",
    "#NOR GATE\n",
    "\n",
    "weights=np.array([-1,-1])\n",
    "print('weights: ', weights)"
   ]
  },
  {
   "cell_type": "code",
   "execution_count": 12,
   "metadata": {},
   "outputs": [
    {
     "name": "stdout",
     "output_type": "stream",
     "text": [
      "dot product:  [ 0 -1 -1 -2]\n"
     ]
    }
   ],
   "source": [
    "dot_products=input_table @weights\n",
    "print('dot product: ', dot_products)"
   ]
  }
 ],
 "metadata": {
  "kernelspec": {
   "display_name": "Python 3",
   "language": "python",
   "name": "python3"
  },
  "language_info": {
   "codemirror_mode": {
    "name": "ipython",
    "version": 3
   },
   "file_extension": ".py",
   "mimetype": "text/x-python",
   "name": "python",
   "nbconvert_exporter": "python",
   "pygments_lexer": "ipython3",
   "version": "3.11.1"
  },
  "orig_nbformat": 4,
  "vscode": {
   "interpreter": {
    "hash": "7e5c0badbb2d24bbc3f94f0128230c51073dab69f6205fe8338cbe6039d785c3"
   }
  }
 },
 "nbformat": 4,
 "nbformat_minor": 2
}
